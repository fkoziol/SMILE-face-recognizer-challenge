{
 "cells": [
  {
   "cell_type": "markdown",
   "metadata": {},
   "source": [
    "The following code is almost entierly from adityzjin's kernel (https://www.kaggle.com/adityajn105/getting-started-with-vggface-0-787-lb)\n",
    "The only addition are annotations or vizualisation steps helping understanding each step for beginners. Being a junior myself, I had to check the documentation numerous times. So please excuse my potential mistakes and don't hesitate to tell me if you spot one."
   ]
  },
  {
   "cell_type": "code",
   "execution_count": 1,
   "metadata": {},
   "outputs": [
    {
     "name": "stdout",
     "output_type": "stream",
     "text": [
      "Collecting git+https://github.com/rcmalli/keras-vggface.git\n",
      "  Cloning https://github.com/rcmalli/keras-vggface.git to /tmp/pip-req-build-68hrctlt\n",
      "  Running command git clone -q https://github.com/rcmalli/keras-vggface.git /tmp/pip-req-build-68hrctlt\n",
      "Requirement already satisfied (use --upgrade to upgrade): keras-vggface==0.5 from git+https://github.com/rcmalli/keras-vggface.git in /home/florent/bin/anaconda/lib/python3.7/site-packages\n",
      "Requirement already satisfied: numpy>=1.9.1 in /home/florent/bin/anaconda/lib/python3.7/site-packages (from keras-vggface==0.5) (1.15.1)\n",
      "Requirement already satisfied: scipy>=0.14 in /home/florent/bin/anaconda/lib/python3.7/site-packages (from keras-vggface==0.5) (1.1.0)\n",
      "Requirement already satisfied: h5py in /home/florent/bin/anaconda/lib/python3.7/site-packages (from keras-vggface==0.5) (2.8.0)\n",
      "Requirement already satisfied: pillow in /home/florent/bin/anaconda/lib/python3.7/site-packages (from keras-vggface==0.5) (5.2.0)\n",
      "Requirement already satisfied: keras in /home/florent/bin/anaconda/lib/python3.7/site-packages (from keras-vggface==0.5) (2.2.4)\n",
      "Requirement already satisfied: six>=1.9.0 in /home/florent/bin/anaconda/lib/python3.7/site-packages (from keras-vggface==0.5) (1.11.0)\n",
      "Requirement already satisfied: pyyaml in /home/florent/bin/anaconda/lib/python3.7/site-packages (from keras-vggface==0.5) (3.13)\n",
      "Requirement already satisfied: keras-applications>=1.0.6 in /home/florent/bin/anaconda/lib/python3.7/site-packages (from keras->keras-vggface==0.5) (1.0.8)\n",
      "Requirement already satisfied: keras-preprocessing>=1.0.5 in /home/florent/bin/anaconda/lib/python3.7/site-packages (from keras->keras-vggface==0.5) (1.1.0)\n",
      "Building wheels for collected packages: keras-vggface\n",
      "  Building wheel for keras-vggface (setup.py) ... \u001b[?25ldone\n",
      "\u001b[?25h  Stored in directory: /tmp/pip-ephem-wheel-cache-87pu1mps/wheels/36/07/46/06c25ce8e9cd396dabe151ea1d8a2bc28dafcb11321c1f3a6d\n",
      "Successfully built keras-vggface\n"
     ]
    }
   ],
   "source": [
    "#Importing the Keras implementation of the VGGface pre-trained model of face recognition\n",
    "!pip install git+https://github.com/rcmalli/keras-vggface.git"
   ]
  },
  {
   "cell_type": "code",
   "execution_count": 2,
   "metadata": {},
   "outputs": [
    {
     "name": "stderr",
     "output_type": "stream",
     "text": [
      "Using TensorFlow backend.\n"
     ]
    }
   ],
   "source": [
    "import gc\n",
    "import cv2\n",
    "import glob\n",
    "from keras_vggface.utils import preprocess_input\n",
    "\n",
    "def read_img(path):\n",
    "    \"\"\"\n",
    "    Function:\n",
    "    ---------\n",
    "    Turns an image into an array\n",
    "    \n",
    "    Input:\n",
    "    ------\n",
    "    path = path of the image file\n",
    "    \n",
    "    Returns:\n",
    "    --------\n",
    "    An array containing floats\n",
    "    \"\"\"\n",
    "    \n",
    "    img = cv2.imread(path)\n",
    "    img = np.array(img).astype(np.float)\n",
    "    return preprocess_input(img, version=2)"
   ]
  },
  {
   "cell_type": "code",
   "execution_count": 3,
   "metadata": {},
   "outputs": [
    {
     "data": {
      "text/plain": [
       "2316"
      ]
     },
     "execution_count": 3,
     "metadata": {},
     "output_type": "execute_result"
    }
   ],
   "source": [
    "from collections import defaultdict\n",
    "#Oppositely to a 'normal' dic() function, defaultdict doesn't return an error when trying to access an item with a key that hasn't been attributed, it creates a new item/key if it doesn't exit yet\n",
    "\n",
    "allPhotos = defaultdict(list)\n",
    "#First we iterate through all the directories in the train dataset, containing directories of people from the same family \n",
    "#Note: glob.glob work exclusively with unix, use \"os\" package instead if you are using another os\n",
    "for family in glob.glob(\"data/recognizing-faces-in-the-wild/train/*\"):\n",
    "    #Then we iterate through the families directories to get the directory of each member\n",
    "    for mem in glob.glob(family+'/*'):\n",
    "        #Finally, we iterat through every photo in each member directory\n",
    "        for photo in glob.glob(mem+'/*'):\n",
    "            #Then we put all photos as items with their directory name (which here matches with each person id) as index\n",
    "            allPhotos[mem].append(photo)\n",
    "\n",
    "#Making a list with all ids\n",
    "ppl = list(allPhotos.keys())\n",
    "len(ppl)"
   ]
  },
  {
   "cell_type": "code",
   "execution_count": 4,
   "metadata": {
    "scrolled": true
   },
   "outputs": [
    {
     "data": {
      "text/html": [
       "<div>\n",
       "<style scoped>\n",
       "    .dataframe tbody tr th:only-of-type {\n",
       "        vertical-align: middle;\n",
       "    }\n",
       "\n",
       "    .dataframe tbody tr th {\n",
       "        vertical-align: top;\n",
       "    }\n",
       "\n",
       "    .dataframe thead th {\n",
       "        text-align: right;\n",
       "    }\n",
       "</style>\n",
       "<table border=\"1\" class=\"dataframe\">\n",
       "  <thead>\n",
       "    <tr style=\"text-align: right;\">\n",
       "      <th></th>\n",
       "      <th>p1</th>\n",
       "      <th>p2</th>\n",
       "    </tr>\n",
       "  </thead>\n",
       "  <tbody>\n",
       "    <tr>\n",
       "      <th>0</th>\n",
       "      <td>F0002/MID1</td>\n",
       "      <td>F0002/MID3</td>\n",
       "    </tr>\n",
       "    <tr>\n",
       "      <th>1</th>\n",
       "      <td>F0002/MID2</td>\n",
       "      <td>F0002/MID3</td>\n",
       "    </tr>\n",
       "    <tr>\n",
       "      <th>2</th>\n",
       "      <td>F0005/MID1</td>\n",
       "      <td>F0005/MID2</td>\n",
       "    </tr>\n",
       "    <tr>\n",
       "      <th>3</th>\n",
       "      <td>F0005/MID3</td>\n",
       "      <td>F0005/MID2</td>\n",
       "    </tr>\n",
       "    <tr>\n",
       "      <th>4</th>\n",
       "      <td>F0009/MID1</td>\n",
       "      <td>F0009/MID4</td>\n",
       "    </tr>\n",
       "  </tbody>\n",
       "</table>\n",
       "</div>"
      ],
      "text/plain": [
       "           p1          p2\n",
       "0  F0002/MID1  F0002/MID3\n",
       "1  F0002/MID2  F0002/MID3\n",
       "2  F0005/MID1  F0005/MID2\n",
       "3  F0005/MID3  F0005/MID2\n",
       "4  F0009/MID1  F0009/MID4"
      ]
     },
     "execution_count": 4,
     "metadata": {},
     "output_type": "execute_result"
    }
   ],
   "source": [
    "import pandas as pd\n",
    "data = pd.read_csv('data/recognizing-faces-in-the-wild/train_relationships.csv')\n",
    "data.head()"
   ]
  },
  {
   "cell_type": "code",
   "execution_count": 5,
   "metadata": {},
   "outputs": [
    {
     "data": {
      "text/html": [
       "<div>\n",
       "<style scoped>\n",
       "    .dataframe tbody tr th:only-of-type {\n",
       "        vertical-align: middle;\n",
       "    }\n",
       "\n",
       "    .dataframe tbody tr th {\n",
       "        vertical-align: top;\n",
       "    }\n",
       "\n",
       "    .dataframe thead th {\n",
       "        text-align: right;\n",
       "    }\n",
       "</style>\n",
       "<table border=\"1\" class=\"dataframe\">\n",
       "  <thead>\n",
       "    <tr style=\"text-align: right;\">\n",
       "      <th></th>\n",
       "      <th>p1</th>\n",
       "      <th>p2</th>\n",
       "    </tr>\n",
       "  </thead>\n",
       "  <tbody>\n",
       "    <tr>\n",
       "      <th>0</th>\n",
       "      <td>data/recognizing-faces-in-the-wild/train/F0002...</td>\n",
       "      <td>data/recognizing-faces-in-the-wild/train/F0002...</td>\n",
       "    </tr>\n",
       "    <tr>\n",
       "      <th>1</th>\n",
       "      <td>data/recognizing-faces-in-the-wild/train/F0002...</td>\n",
       "      <td>data/recognizing-faces-in-the-wild/train/F0002...</td>\n",
       "    </tr>\n",
       "    <tr>\n",
       "      <th>2</th>\n",
       "      <td>data/recognizing-faces-in-the-wild/train/F0005...</td>\n",
       "      <td>data/recognizing-faces-in-the-wild/train/F0005...</td>\n",
       "    </tr>\n",
       "    <tr>\n",
       "      <th>3</th>\n",
       "      <td>data/recognizing-faces-in-the-wild/train/F0005...</td>\n",
       "      <td>data/recognizing-faces-in-the-wild/train/F0005...</td>\n",
       "    </tr>\n",
       "    <tr>\n",
       "      <th>4</th>\n",
       "      <td>data/recognizing-faces-in-the-wild/train/F0009...</td>\n",
       "      <td>data/recognizing-faces-in-the-wild/train/F0009...</td>\n",
       "    </tr>\n",
       "  </tbody>\n",
       "</table>\n",
       "</div>"
      ],
      "text/plain": [
       "                                                  p1  \\\n",
       "0  data/recognizing-faces-in-the-wild/train/F0002...   \n",
       "1  data/recognizing-faces-in-the-wild/train/F0002...   \n",
       "2  data/recognizing-faces-in-the-wild/train/F0005...   \n",
       "3  data/recognizing-faces-in-the-wild/train/F0005...   \n",
       "4  data/recognizing-faces-in-the-wild/train/F0009...   \n",
       "\n",
       "                                                  p2  \n",
       "0  data/recognizing-faces-in-the-wild/train/F0002...  \n",
       "1  data/recognizing-faces-in-the-wild/train/F0002...  \n",
       "2  data/recognizing-faces-in-the-wild/train/F0005...  \n",
       "3  data/recognizing-faces-in-the-wild/train/F0005...  \n",
       "4  data/recognizing-faces-in-the-wild/train/F0009...  "
      ]
     },
     "execution_count": 5,
     "metadata": {},
     "output_type": "execute_result"
    }
   ],
   "source": [
    "#As you can see, the train-relationships document gives the actual kinship of each individual, but only by their family and\n",
    "#member directory. The point here will be to turn them into full path for each person\n",
    "data.p1 = data.p1.apply(lambda x: 'data/recognizing-faces-in-the-wild/train/'+x)\n",
    "data.p2 = data.p2.apply(lambda x: 'data/recognizing-faces-in-the-wild/train/'+x)\n",
    "data.head()"
   ]
  },
  {
   "cell_type": "code",
   "execution_count": 6,
   "metadata": {},
   "outputs": [
    {
     "data": {
      "text/plain": [
       "(3598, 2)"
      ]
     },
     "execution_count": 6,
     "metadata": {},
     "output_type": "execute_result"
    }
   ],
   "source": [
    "data.shape"
   ]
  },
  {
   "cell_type": "code",
   "execution_count": 7,
   "metadata": {},
   "outputs": [
    {
     "data": {
      "text/plain": [
       "3362"
      ]
     },
     "execution_count": 7,
     "metadata": {},
     "output_type": "execute_result"
    }
   ],
   "source": [
    "#Here we have 3598, 2 lines, each one with kinship matching. Still, we will check if every person depicted\n",
    "#in the dataframe actually matches the ones we have in our data\n",
    "\n",
    "data = data[((data.p1.isin(ppl)) & (data.p2.isin(ppl)))]\n",
    "data = [(x[0], x[1]) for x in data.values]\n",
    "len(data)"
   ]
  },
  {
   "cell_type": "code",
   "execution_count": 8,
   "metadata": {},
   "outputs": [
    {
     "data": {
      "image/png": "[encoded data removed]",
      "text/plain": [
       "<Figure size 288x288 with 4 Axes>"
      ]
     },
     "metadata": {
      "needs_background": "light"
     },
     "output_type": "display_data"
    }
   ],
   "source": [
    "#Far from useless: 236 lines referred to at least one person we didn't have in our train data!\n",
    "#Now we will vizualise some random photos\n",
    "\n",
    "%matplotlib inline\n",
    "import matplotlib.pyplot as plt\n",
    "from random import choice, sample\n",
    "\n",
    "#We will go for 2 pairs of images but feel free to show as much as you want\n",
    "f, ax = plt.subplots(2, 2, figsize=(4, 4))\n",
    "#This one is a bit tricky. If you don't understand right away, further explanation follows in the few next cells\n",
    "batch = sample(data, 2)\n",
    "for i, j in [(0,0), (0,1), (1,0), (1,1)]:\n",
    "    #The iteration associate i with the first number from each tuple (so here 0, 0, 1, 1) and j the second (0, 1, 0, 1)\n",
    "    #It allows to iterate through all the indeces possibilities in batch (which is a list of two tuples with two images)\n",
    "    #Therefore, we iterate to associate each subplot to one image randomly chosen in the directory associated with the member\n",
    "    #id contained in the two lines from batch\n",
    "    ax[i][j].imshow(cv2.imread(choice(allPhotos[batch[i][j]])))"
   ]
  },
  {
   "cell_type": "code",
   "execution_count": 9,
   "metadata": {},
   "outputs": [
    {
     "name": "stdout",
     "output_type": "stream",
     "text": [
      "[('data/recognizing-faces-in-the-wild/train/F0174/MID3', 'data/recognizing-faces-in-the-wild/train/F0174/MID7'), ('data/recognizing-faces-in-the-wild/train/F0601/MID21', 'data/recognizing-faces-in-the-wild/train/F0601/MID33')]\n"
     ]
    }
   ],
   "source": [
    "#As each line from the data dataframe contains a pair, getting a random line will get 2 images\n",
    "print(batch)"
   ]
  },
  {
   "cell_type": "code",
   "execution_count": 10,
   "metadata": {},
   "outputs": [
    {
     "name": "stdout",
     "output_type": "stream",
     "text": [
      "Figure(288x288)\n",
      "[[<matplotlib.axes._subplots.AxesSubplot object at 0x7ff0c89d8438>\n",
      "  <matplotlib.axes._subplots.AxesSubplot object at 0x7ff0c874c9b0>]\n",
      " [<matplotlib.axes._subplots.AxesSubplot object at 0x7ff0c8701080>\n",
      "  <matplotlib.axes._subplots.AxesSubplot object at 0x7ff0c86a6710>]]\n"
     ]
    }
   ],
   "source": [
    "#f matches with the figure object, ax with the axes\n",
    "print(f)\n",
    "print(ax)"
   ]
  },
  {
   "cell_type": "code",
   "execution_count": 11,
   "metadata": {},
   "outputs": [
    {
     "name": "stdout",
     "output_type": "stream",
     "text": [
      "<class 'int'>\n",
      "<class 'int'>\n",
      "<class 'int'>\n",
      "<class 'int'>\n"
     ]
    }
   ],
   "source": [
    "#All objects from this iteration are integers\n",
    "for i, j in [(0,0), (0,1), (1,0), (1,1)]:\n",
    "    print(type(i))"
   ]
  },
  {
   "cell_type": "code",
   "execution_count": 12,
   "metadata": {},
   "outputs": [
    {
     "data": {
      "text/plain": [
       "['data/recognizing-faces-in-the-wild/train/F0601/MID33/P11958_face1.jpg',\n",
       " 'data/recognizing-faces-in-the-wild/train/F0601/MID33/P12019_face1.jpg',\n",
       " 'data/recognizing-faces-in-the-wild/train/F0601/MID33/P11941_face1.jpg',\n",
       " 'data/recognizing-faces-in-the-wild/train/F0601/MID33/P11957_face1.jpg',\n",
       " 'data/recognizing-faces-in-the-wild/train/F0601/MID33/P11961_face2.jpg',\n",
       " 'data/recognizing-faces-in-the-wild/train/F0601/MID33/P12017_face1.jpg',\n",
       " 'data/recognizing-faces-in-the-wild/train/F0601/MID33/P12018_face1.jpg',\n",
       " 'data/recognizing-faces-in-the-wild/train/F0601/MID33/P11945_face1.jpg',\n",
       " 'data/recognizing-faces-in-the-wild/train/F0601/MID33/P12018_face2.jpg',\n",
       " 'data/recognizing-faces-in-the-wild/train/F0601/MID33/P11934_face1.jpg',\n",
       " 'data/recognizing-faces-in-the-wild/train/F0601/MID33/P11965_face1.jpg',\n",
       " 'data/recognizing-faces-in-the-wild/train/F0601/MID33/P11943_face2.jpg',\n",
       " 'data/recognizing-faces-in-the-wild/train/F0601/MID33/P06391_face22.jpg',\n",
       " 'data/recognizing-faces-in-the-wild/train/F0601/MID33/P11960_face2.jpg',\n",
       " 'data/recognizing-faces-in-the-wild/train/F0601/MID33/P11946_face1.jpg',\n",
       " 'data/recognizing-faces-in-the-wild/train/F0601/MID33/P11949_face1.jpg',\n",
       " 'data/recognizing-faces-in-the-wild/train/F0601/MID33/P11916_face3.jpg',\n",
       " 'data/recognizing-faces-in-the-wild/train/F0601/MID33/P11965_face2.jpg',\n",
       " 'data/recognizing-faces-in-the-wild/train/F0601/MID33/P11947_face2.jpg']"
      ]
     },
     "execution_count": 12,
     "metadata": {},
     "output_type": "execute_result"
    }
   ],
   "source": [
    "#The following line allows to go through a specific family member directory through index contained in a line from batch\n",
    "allPhotos[batch[1][1]]"
   ]
  },
  {
   "cell_type": "code",
   "execution_count": 13,
   "metadata": {},
   "outputs": [
    {
     "data": {
      "text/plain": [
       "(3066, 296)"
      ]
     },
     "execution_count": 13,
     "metadata": {},
     "output_type": "execute_result"
    }
   ],
   "source": [
    "#Building a validation set. As we cannot mix up members from different families together, we can't use the good ol'\n",
    "#train_test_split\n",
    "\n",
    "train = [x for x in data if 'F09' not in x[0]]\n",
    "val = [x for x in data if 'F09' in x[0]]\n",
    "len(train), len(val)"
   ]
  },
  {
   "cell_type": "code",
   "execution_count": 14,
   "metadata": {},
   "outputs": [],
   "source": [
    "#This method allowed us to have a 90% train 10% validation which is acceptable\n",
    "\n",
    "def getImages(p1, p2):\n",
    "    \"\"\"\n",
    "    Function:\n",
    "    ---------\n",
    "    Get a random image from allPhotos \n",
    "    \n",
    "    Input:\n",
    "    ------\n",
    "    p1 = first path for a family member directory\n",
    "    p2 = second path for a family member directory\n",
    "    \n",
    "    Returns:\n",
    "    --------\n",
    "    A random image from p1 and another from p2 in the form of arrays\n",
    "    \n",
    "    \"\"\"\n",
    "    \n",
    "    p1 = read_img(choice(allPhotos[p1]))\n",
    "    p2 = read_img(choice(allPhotos[p2]))\n",
    "    return p1, p2\n"
   ]
  },
  {
   "cell_type": "code",
   "execution_count": 15,
   "metadata": {},
   "outputs": [],
   "source": [
    "import numpy as np\n",
    "\n",
    "def getMiniBatch(batch_size=16, data=train):\n",
    "    \"\"\"\n",
    "    Input:\n",
    "    ------\n",
    "    batch_size = Desired batch size\n",
    "    data = a dataframe with 2 features\n",
    "    \n",
    "    Returns:\n",
    "    --------\n",
    "    A list of two arrays containing arrays of images of random\n",
    "    family members\n",
    "    \n",
    "    \"\"\"\n",
    "    \n",
    "    p1=[]; p2=[]; Y=[]\n",
    "    #Gets some pairs from data (default = 8)\n",
    "    batch=sample(data, batch_size//2)\n",
    "    #Iterates through pairs\n",
    "    for x in batch:\n",
    "        #Assigns a variable where each one takes all the photos of each\n",
    "        # family member from the pair in the form of lists of arrays\n",
    "        _p1, _p2 = getImages(*x)\n",
    "        #Append each array to p1 and p2\n",
    "        #Adds 1 to the Y list for each appended array to p1 and p2\n",
    "        p1.append(_p1); p2.append(_p2); Y.append(1)\n",
    "    \n",
    "    #As long as the lenght of Y doesn't equals the batch_size \n",
    "    #(which will happen when all the appendings will be over\n",
    "    #as there are 4 pairs of batch_size //2)\n",
    "    while len(Y) < batch_size:\n",
    "        #Make _p1 and p2 equal to a random family member id\n",
    "        _p1, _p2 = tuple(np.random.choice(ppl, size=2, replace=False))\n",
    "        #Adds a condition in case _p1 and _p2 aren't pairs\n",
    "        if (_p1, _p2) not in train+val and (_p2, _p1) not in train+val:\n",
    "            #Assign the value of one random image of the family member\n",
    "            _p1, _p2 = getImages(_p1, _p2)\n",
    "            p1.append(_p1); p2.append(_p2); Y.append(0)\n",
    "        return[np.array(p1), np.array(p2)], np.array(Y)"
   ]
  },
  {
   "cell_type": "code",
   "execution_count": 16,
   "metadata": {},
   "outputs": [
    {
     "name": "stdout",
     "output_type": "stream",
     "text": [
      "WARNING:tensorflow:From /home/florent/bin/anaconda/lib/python3.7/site-packages/tensorflow/python/framework/op_def_library.py:263: colocate_with (from tensorflow.python.framework.ops) is deprecated and will be removed in a future version.\n",
      "Instructions for updating:\n",
      "Colocations handled automatically by placer.\n"
     ]
    }
   ],
   "source": [
    "from keras_vggface.vggface import VGGFace\n",
    "\n",
    "#Setting the images dimensions, which are 224*224 in colours\n",
    "IMG_DIM = (224, 224, 3)\n",
    "\n",
    "#Then we instantiate VGGFace. Setting \"include_top\" to False allows to only \n",
    "#use the dimension extraction layers of the model\n",
    "vggface = VGGFace(model='resnet50', include_top=False)\n",
    "\n",
    "#VGGFace is a model with pre-trained layers, and thus is set to forbid any \n",
    "#training on its layers by default. In order to be able to train our model \n",
    "#to work specifically on our data without losing the primary advantage\n",
    "#of having this already working model, we allow the last 3 layers to be \n",
    "#trained. As you will see just below, VGGFace has 174 layers, so this is a \n",
    "#really small part of the model\n",
    "for layer in vggface.layers[:-3]:\n",
    "    layer.trainable=True"
   ]
  },
  {
   "cell_type": "code",
   "execution_count": 17,
   "metadata": {},
   "outputs": [
    {
     "data": {
      "text/plain": [
       "174"
      ]
     },
     "execution_count": 17,
     "metadata": {},
     "output_type": "execute_result"
    }
   ],
   "source": [
    "len(vggface.layers)"
   ]
  },
  {
   "cell_type": "code",
   "execution_count": 18,
   "metadata": {},
   "outputs": [],
   "source": [
    "def initialize_bias(shape, name=None):\n",
    "    #This function aims to pick a given number of random sample from a \n",
    "    #gaussian distribution with positive values\n",
    "    \n",
    "    \"\"\"\n",
    "        [Copied from the original kernel]\n",
    "        The paper, http://www.cs.utoronto.ca/~gkoch/files/msc-thesis.pdf\n",
    "        suggests to initialize CNN layer bias with mean as 0.5 and standard deviation of 0.01\n",
    "    \"\"\"\n",
    "    return np.random.normal(loc = 0.5, scale = 1e-2, size = shape)"
   ]
  },
  {
   "cell_type": "code",
   "execution_count": 19,
   "metadata": {},
   "outputs": [],
   "source": [
    "def initialize_weights(shape, name=None):\n",
    "    #The same function with a different center for the gaussian distribution\n",
    "    #allowing positive and negative values\n",
    "    \"\"\"\n",
    "        [Copied from the kernel]\n",
    "        The paper, http://www.cs.utoronto.ca/~gkoch/files/msc-thesis.pdf\n",
    "        suggests to initialize CNN layer weights with mean as 0.0 and standard deviation of 0.01\n",
    "    \"\"\"\n",
    "    return np.random.normal(loc = 0.0, scale = 1e-2, size = shape)\n"
   ]
  },
  {
   "cell_type": "code",
   "execution_count": 20,
   "metadata": {},
   "outputs": [],
   "source": [
    "from keras.layers import Input, Dense, Flatten, Subtract, Dropout, Multiply\n",
    "from keras.layers import Lambda, Concatenate, GlobalMaxPool2D, GlobalAvgPool2D\n",
    "from keras.models import Model\n",
    "from keras.regularizers import l2\n",
    "from keras import backend as K\n",
    "from keras.optimizers import SGD, Adam\n",
    "from keras.losses import binary_crossentropy\n",
    "import tensorflow as tf\n",
    "from sklearn.metrics import roc_auc_score\n",
    "\n",
    "def auc(y_true, y_pred):\n",
    "    #A simple function that returns the auc score of each \"y_true\"/\"y_pred\"\n",
    "    #combination in an array\n",
    "    return tf.py_func(roc_auc_score, (y_true, y_pred), tf.double)\n",
    "    "
   ]
  },
  {
   "cell_type": "code",
   "execution_count": 21,
   "metadata": {},
   "outputs": [
    {
     "data": {
      "text/plain": [
       "tf.float64"
      ]
     },
     "execution_count": 21,
     "metadata": {},
     "output_type": "execute_result"
    }
   ],
   "source": [
    "tf.double"
   ]
  },
  {
   "cell_type": "code",
   "execution_count": 22,
   "metadata": {},
   "outputs": [],
   "source": [
    "#We instantiate keras tensors\n",
    "left_input = Input(IMG_DIM)\n",
    "right_input = Input(IMG_DIM)\n",
    "\n",
    "\n",
    "x1=vggface(left_input)\n",
    "x2=vggface(right_input)"
   ]
  },
  {
   "cell_type": "code",
   "execution_count": 23,
   "metadata": {},
   "outputs": [
    {
     "data": {
      "text/plain": [
       "<tf.Tensor 'input_2:0' shape=(?, 224, 224, 3) dtype=float32>"
      ]
     },
     "execution_count": 23,
     "metadata": {},
     "output_type": "execute_result"
    }
   ],
   "source": [
    "left_input"
   ]
  },
  {
   "cell_type": "code",
   "execution_count": 24,
   "metadata": {},
   "outputs": [
    {
     "data": {
      "text/plain": [
       "<tf.Tensor 'vggface_resnet50/avg_pool/AvgPool:0' shape=(?, 1, 1, 2048) dtype=float32>"
      ]
     },
     "execution_count": 24,
     "metadata": {},
     "output_type": "execute_result"
    }
   ],
   "source": [
    "x1"
   ]
  },
  {
   "cell_type": "code",
   "execution_count": 25,
   "metadata": {},
   "outputs": [],
   "source": [
    "#We concatenate the max value and the avg value of each tensor\n",
    "x1 = Concatenate(axis=-1)([GlobalMaxPool2D()(x1), GlobalAvgPool2D()(x1)])\n",
    "x2 = Concatenate(axis=-1)([GlobalMaxPool2D()(x2), GlobalAvgPool2D()(x2)])"
   ]
  },
  {
   "cell_type": "code",
   "execution_count": 26,
   "metadata": {},
   "outputs": [
    {
     "data": {
      "text/plain": [
       "<tf.Tensor 'concatenate_1/concat:0' shape=(?, 4096) dtype=float32>"
      ]
     },
     "execution_count": 26,
     "metadata": {},
     "output_type": "execute_result"
    }
   ],
   "source": [
    "x1"
   ]
  },
  {
   "cell_type": "code",
   "execution_count": 27,
   "metadata": {},
   "outputs": [],
   "source": [
    "#We instantiate a Dense layer using random weights and bias from our\n",
    "#previous functions\n",
    "fc = Dense(100,activation='relu',kernel_regularizer=l2(1e-3),kernel_initializer=initialize_weights,bias_initializer=initialize_bias)"
   ]
  },
  {
   "cell_type": "code",
   "execution_count": 28,
   "metadata": {},
   "outputs": [],
   "source": [
    "#We apply this layer to our two tensors\n",
    "x1=fc(x1)\n",
    "x2=fc(x2)"
   ]
  },
  {
   "cell_type": "code",
   "execution_count": 29,
   "metadata": {},
   "outputs": [
    {
     "data": {
      "text/plain": [
       "<tf.Tensor 'dense_1/Relu:0' shape=(?, 100) dtype=float32>"
      ]
     },
     "execution_count": 29,
     "metadata": {},
     "output_type": "execute_result"
    }
   ],
   "source": [
    "x1"
   ]
  },
  {
   "cell_type": "code",
   "execution_count": 30,
   "metadata": {},
   "outputs": [],
   "source": [
    "#The point of the following steps will be to get a variable containing\n",
    "#|h1-h2|^2 + h1*h2\n",
    "#First, we put the absolute value of the difference of the two tensors in a \n",
    "#variable\n",
    "x3 = Lambda(lambda tensors: K.abs(tensors[0] - tensors[1]))([x1, x2])"
   ]
  },
  {
   "cell_type": "code",
   "execution_count": 31,
   "metadata": {},
   "outputs": [
    {
     "data": {
      "text/plain": [
       "<tf.Tensor 'lambda_1/Abs:0' shape=(?, 100) dtype=float32>"
      ]
     },
     "execution_count": 31,
     "metadata": {},
     "output_type": "execute_result"
    }
   ],
   "source": [
    "x3"
   ]
  },
  {
   "cell_type": "code",
   "execution_count": 32,
   "metadata": {},
   "outputs": [],
   "source": [
    "#We do the same but squared\n",
    "x4 = Lambda(lambda tensor  : K.square(tensor))(x3)"
   ]
  },
  {
   "cell_type": "code",
   "execution_count": 33,
   "metadata": {},
   "outputs": [],
   "source": [
    "#We multiply the two tensors in a variable\n",
    "x5 = Multiply()([x1, x2])"
   ]
  },
  {
   "cell_type": "code",
   "execution_count": 34,
   "metadata": {},
   "outputs": [],
   "source": [
    "#We concatenate x4 and x5 wich is equivalent to doing |h1-h2|^2 + h1*h2\n",
    "x = Concatenate(axis=-1)([x4,x5])"
   ]
  },
  {
   "cell_type": "code",
   "execution_count": 35,
   "metadata": {},
   "outputs": [
    {
     "data": {
      "text/plain": [
       "<tf.Tensor 'concatenate_3/concat:0' shape=(?, 200) dtype=float32>"
      ]
     },
     "execution_count": 35,
     "metadata": {},
     "output_type": "execute_result"
    }
   ],
   "source": [
    "x"
   ]
  },
  {
   "cell_type": "code",
   "execution_count": 36,
   "metadata": {},
   "outputs": [],
   "source": [
    "#We then apply a Dense layer to this last variable similar to the previous one\n",
    "x = Dense(100,activation='relu',kernel_regularizer=l2(1e-3),kernel_initializer=initialize_weights,bias_initializer=initialize_bias)(x)"
   ]
  },
  {
   "cell_type": "code",
   "execution_count": 37,
   "metadata": {},
   "outputs": [
    {
     "data": {
      "text/plain": [
       "<tf.Tensor 'dense_2/Relu:0' shape=(?, 100) dtype=float32>"
      ]
     },
     "execution_count": 37,
     "metadata": {},
     "output_type": "execute_result"
    }
   ],
   "source": [
    "x"
   ]
  },
  {
   "cell_type": "code",
   "execution_count": 38,
   "metadata": {},
   "outputs": [
    {
     "name": "stdout",
     "output_type": "stream",
     "text": [
      "WARNING:tensorflow:From /home/florent/bin/anaconda/lib/python3.7/site-packages/keras/backend/tensorflow_backend.py:3445: calling dropout (from tensorflow.python.ops.nn_ops) with keep_prob is deprecated and will be removed in a future version.\n",
      "Instructions for updating:\n",
      "Please use `rate` instead of `keep_prob`. Rate should be set to `rate = 1 - keep_prob`.\n"
     ]
    }
   ],
   "source": [
    "#In order to avoid overfitting, we add a Dropout to the tensor\n",
    "x = Dropout(0.2)(x)"
   ]
  },
  {
   "cell_type": "code",
   "execution_count": 39,
   "metadata": {},
   "outputs": [],
   "source": [
    "#We then pass it through a last Dense layer which will return a categorial \n",
    "#value\n",
    "prediction = Dense(1,activation='sigmoid',bias_initializer=initialize_bias)(x)"
   ]
  },
  {
   "cell_type": "code",
   "execution_count": 40,
   "metadata": {},
   "outputs": [],
   "source": [
    "#Instantiating a Siamese Neural network\n",
    "siamese_net = Model(inputs=[left_input,right_input],outputs=prediction)"
   ]
  },
  {
   "cell_type": "code",
   "execution_count": 41,
   "metadata": {},
   "outputs": [],
   "source": [
    "#From the original kernel : \"\"https://towardsdatascience.com/lossless-triplet-loss-7e932f990b24\"\""
   ]
  },
  {
   "cell_type": "code",
   "execution_count": 42,
   "metadata": {},
   "outputs": [
    {
     "name": "stdout",
     "output_type": "stream",
     "text": [
      "WARNING:tensorflow:From <ipython-input-20-9b3ec23855d1>:14: py_func (from tensorflow.python.ops.script_ops) is deprecated and will be removed in a future version.\n",
      "Instructions for updating:\n",
      "tf.py_func is deprecated in TF V2. Instead, use\n",
      "    tf.py_function, which takes a python function which manipulates tf eager\n",
      "    tensors instead of numpy arrays. It's easy to convert a tf eager tensor to\n",
      "    an ndarray (just call tensor.numpy()) but having access to eager tensors\n",
      "    means `tf.py_function`s can use accelerators such as GPUs as well as\n",
      "    being differentiable using a gradient tape.\n",
      "    \n"
     ]
    }
   ],
   "source": [
    "#Instantiating the siamese NN\n",
    "optimizer = Adam(1e-5)\n",
    "siamese_net.compile(loss=\"binary_crossentropy\",optimizer=optimizer,metrics=['accuracy',auc])"
   ]
  },
  {
   "cell_type": "code",
   "execution_count": 43,
   "metadata": {},
   "outputs": [],
   "source": [
    "from keras.callbacks import ReduceLROnPlateau, ModelCheckpoint, EarlyStopping\n",
    "import threading"
   ]
  },
  {
   "cell_type": "code",
   "execution_count": 44,
   "metadata": {},
   "outputs": [],
   "source": [
    "#We instantiate a function that reduces the learning-rate when the auc will\n",
    "#stop increasing\n",
    "reducelr = ReduceLROnPlateau(monitor='val_auc', mode='max', patience=6, factor=0.1, verbose=1)"
   ]
  },
  {
   "cell_type": "code",
   "execution_count": 45,
   "metadata": {},
   "outputs": [],
   "source": [
    "#We instantiate a function that saves the epochs, in case of conflict, will\n",
    "#save the best one in terms of auc score\n",
    "model_checkpoint = ModelCheckpoint('model_best_checkpoint.h5', save_best_only=True, save_weights_only=True, monitor='valu_auc', mode='max', verbose=1)"
   ]
  },
  {
   "cell_type": "code",
   "execution_count": 46,
   "metadata": {},
   "outputs": [],
   "source": [
    "#We instantiate a function that will stop training when the auc score will\n",
    "#stop progressing\n",
    "early_stopping = EarlyStopping(monitor='val_auc', patience=15, mode='max')"
   ]
  },
  {
   "cell_type": "code",
   "execution_count": 47,
   "metadata": {},
   "outputs": [],
   "source": [
    "#We setup the callbacks that will get us informed of the scores progression\n",
    "#during the training\n",
    "callbacks_list = [reducelr, model_checkpoint, early_stopping]"
   ]
  },
  {
   "cell_type": "code",
   "execution_count": 48,
   "metadata": {},
   "outputs": [],
   "source": [
    "#We define a generator that will get all the arrays from the getMiniBatch\n",
    "#function we defined earlier\n",
    "def Generator(batch_size, data ):\n",
    "    while True:\n",
    "        yield getMiniBatch(batch_size=batch_size, data=data)"
   ]
  },
  {
   "cell_type": "code",
   "execution_count": 49,
   "metadata": {},
   "outputs": [],
   "source": [
    "#We define the generator to generate through the train or the validation set\n",
    "train_gen = Generator(batch_size=16,data=train)\n",
    "val_gen = Generator(batch_size=16,data=val)"
   ]
  },
  {
   "cell_type": "code",
   "execution_count": 50,
   "metadata": {},
   "outputs": [
    {
     "data": {
      "text/plain": [
       "<generator object Generator at 0x7ff085ffc750>"
      ]
     },
     "execution_count": 50,
     "metadata": {},
     "output_type": "execute_result"
    }
   ],
   "source": [
    "val_gen"
   ]
  },
  {
   "cell_type": "code",
   "execution_count": 51,
   "metadata": {},
   "outputs": [
    {
     "name": "stdout",
     "output_type": "stream",
     "text": [
      "WARNING:tensorflow:From /home/florent/bin/anaconda/lib/python3.7/site-packages/tensorflow/python/ops/math_ops.py:3066: to_int32 (from tensorflow.python.ops.math_ops) is deprecated and will be removed in a future version.\n",
      "Instructions for updating:\n",
      "Use tf.cast instead.\n"
     ]
    },
    {
     "name": "stderr",
     "output_type": "stream",
     "text": [
      "/home/florent/bin/anaconda/lib/python3.7/site-packages/ipykernel_launcher.py:6: UserWarning: Update your `fit_generator` call to the Keras 2 API: `fit_generator(<generator..., epochs=5, validation_data=<generator..., validation_steps=25, use_multiprocessing=True, verbose=1, callbacks=[<keras.ca..., workers=4, steps_per_epoch=20)`\n",
      "  \n"
     ]
    },
    {
     "name": "stdout",
     "output_type": "stream",
     "text": [
      "WARNING:tensorflow:From /home/florent/bin/anaconda/lib/python3.7/site-packages/tensorflow/python/ops/math_grad.py:102: div (from tensorflow.python.ops.math_ops) is deprecated and will be removed in a future version.\n",
      "Instructions for updating:\n",
      "Deprecated in favor of operator or tf.math.divide.\n",
      "Epoch 1/5\n"
     ]
    },
    {
     "name": "stderr",
     "output_type": "stream",
     "text": [
      "/home/florent/bin/anaconda/lib/python3.7/site-packages/keras/engine/training_generator.py:47: UserWarning: Using a generator with `use_multiprocessing=True` and multiple workers may duplicate your data. Please consider using the`keras.utils.Sequence class.\n",
      "  UserWarning('Using a generator with `use_multiprocessing=True`'\n"
     ]
    },
    {
     "name": "stdout",
     "output_type": "stream",
     "text": [
      "20/20 [==============================] - 334s 17s/step - loss: 0.5317 - acc: 0.7889 - auc: 0.5125 - val_loss: 0.3186 - val_acc: 0.9111 - val_auc: 0.7700\n"
     ]
    },
    {
     "name": "stderr",
     "output_type": "stream",
     "text": [
      "/home/florent/bin/anaconda/lib/python3.7/site-packages/keras/callbacks.py:434: RuntimeWarning: Can save best model only with valu_auc available, skipping.\n",
      "  'skipping.' % (self.monitor), RuntimeWarning)\n"
     ]
    },
    {
     "name": "stdout",
     "output_type": "stream",
     "text": [
      "Epoch 2/5\n",
      "20/20 [==============================] - 320s 16s/step - loss: 0.4382 - acc: 0.8889 - auc: 0.3750 - val_loss: 0.3475 - val_acc: 0.8889 - val_auc: 0.7350\n",
      "Epoch 3/5\n",
      "20/20 [==============================] - 320s 16s/step - loss: 0.3816 - acc: 0.8889 - auc: 0.6188 - val_loss: 0.3897 - val_acc: 0.8889 - val_auc: 0.6050\n",
      "Epoch 4/5\n",
      "20/20 [==============================] - 319s 16s/step - loss: 0.4486 - acc: 0.8889 - auc: 0.4000 - val_loss: 0.4123 - val_acc: 0.8889 - val_auc: 0.5200\n",
      "Epoch 5/5\n",
      "20/20 [==============================] - 319s 16s/step - loss: 0.4031 - acc: 0.8889 - auc: 0.5687 - val_loss: 0.4226 - val_acc: 0.8889 - val_auc: 0.4150\n"
     ]
    }
   ],
   "source": [
    "#We then use the fit_generator with the siamese_net in order to fit our\n",
    "#two generators. I had to highly reduce some parameters drastically compared to the original\n",
    "#kernel so my computer wouldn't explode\n",
    "history = siamese_net.fit_generator(train_gen, samples_per_epoch=20, epochs=5, \n",
    "                          validation_data=val_gen, validation_steps=25, use_multiprocessing=True,\n",
    "                          verbose=1,callbacks=callbacks_list,workers=4)"
   ]
  },
  {
   "cell_type": "code",
   "execution_count": 55,
   "metadata": {},
   "outputs": [
    {
     "data": {
      "image/png": "[encoded data removed]",
      "text/plain": [
       "<Figure size 1152x288 with 3 Axes>"
      ]
     },
     "metadata": {
      "needs_background": "light"
     },
     "output_type": "display_data"
    }
   ],
   "source": [
    "#Plotting the results. Most of the steps are self-explaining, so I will only \n",
    "#explain the less obvious ones\n",
    "f, (ax1, ax2, ax3)=plt.subplots(1, 3, figsize=(16, 4))\n",
    "t = f.suptitle('Siamese Net Performance', fontsize=12)\n",
    "f.subplots_adjust(top=0.85, wspace=0.3)\n",
    "#We make a list corresponding to the number of epoch \n",
    "epoch_list = history.epoch\n",
    "\n",
    "ax1.plot(epoch_list, history.history['acc'], label='Train Accuracy')\n",
    "ax1.plot(epoch_list, history.history['val_acc'], label='Validation Accuracy')\n",
    "ax1.set_xticks(np.arange(0, epoch_list[-1], 5))\n",
    "ax1.set_ylabel('Accuracy Value');ax1.set_xlabel('Epoch');ax1.set_title('Accuracy')\n",
    "ax1.legend(loc=\"best\");ax1.grid(color='gray', linestyle='-', linewidth=0.5)\n",
    "\n",
    "ax2.plot(epoch_list, history.history['loss'], label='Train Loss')\n",
    "ax2.plot(epoch_list, history.history['val_loss'], label='Validation Loss')\n",
    "ax2.set_xticks(np.arange(0, epoch_list[-1], 5))\n",
    "ax2.set_ylabel('Loss Value');ax2.set_xlabel('Epoch');ax2.set_title('Loss')\n",
    "ax2.legend(loc=\"best\");ax2.grid(color='gray', linestyle='-', linewidth=0.5)\n",
    "\n",
    "ax3.plot(epoch_list, history.history['auc'], label='Train AUC')\n",
    "ax3.plot(epoch_list, history.history['val_auc'], label='Validation AUC')\n",
    "ax3.set_xticks(np.arange(0, epoch_list[-1], 5))\n",
    "ax3.set_ylabel('AUC');ax3.set_xlabel('Epoch');ax3.set_title('AUC')\n",
    "ax3.legend(loc=\"best\");ax3.grid(color='gray', linestyle='-', linewidth=0.5)"
   ]
  },
  {
   "cell_type": "markdown",
   "metadata": {},
   "source": [
    "As we can see with these plots it would have been better to let the model longer but I technically couldn't. See the original kernel for better results"
   ]
  },
  {
   "cell_type": "code",
   "execution_count": 57,
   "metadata": {},
   "outputs": [],
   "source": [
    "#There we will take the weights from the the best epoch\n",
    "\n",
    "siamese_net.load_weights('model_best_checkpoint.h5')"
   ]
  },
  {
   "cell_type": "code",
   "execution_count": null,
   "metadata": {},
   "outputs": [],
   "source": []
  },
  {
   "cell_type": "code",
   "execution_count": 83,
   "metadata": {},
   "outputs": [
    {
     "name": "stdout",
     "output_type": "stream",
     "text": [
      "(5310, 4)\n"
     ]
    },
    {
     "data": {
      "text/html": [
       "<div>\n",
       "<style scoped>\n",
       "    .dataframe tbody tr th:only-of-type {\n",
       "        vertical-align: middle;\n",
       "    }\n",
       "\n",
       "    .dataframe tbody tr th {\n",
       "        vertical-align: top;\n",
       "    }\n",
       "\n",
       "    .dataframe thead th {\n",
       "        text-align: right;\n",
       "    }\n",
       "</style>\n",
       "<table border=\"1\" class=\"dataframe\">\n",
       "  <thead>\n",
       "    <tr style=\"text-align: right;\">\n",
       "      <th></th>\n",
       "      <th>img_pair</th>\n",
       "      <th>is_related</th>\n",
       "      <th>p1</th>\n",
       "      <th>p2</th>\n",
       "    </tr>\n",
       "  </thead>\n",
       "  <tbody>\n",
       "    <tr>\n",
       "      <th>0</th>\n",
       "      <td>face05508.jpg-face01210.jpg</td>\n",
       "      <td>0</td>\n",
       "      <td>/home/florent/code/SMILE_face_recognition/data...</td>\n",
       "      <td>/home/florent/code/SMILE_face_recognition/data...</td>\n",
       "    </tr>\n",
       "    <tr>\n",
       "      <th>1</th>\n",
       "      <td>face05750.jpg-face00898.jpg</td>\n",
       "      <td>0</td>\n",
       "      <td>/home/florent/code/SMILE_face_recognition/data...</td>\n",
       "      <td>/home/florent/code/SMILE_face_recognition/data...</td>\n",
       "    </tr>\n",
       "    <tr>\n",
       "      <th>2</th>\n",
       "      <td>face05820.jpg-face03938.jpg</td>\n",
       "      <td>0</td>\n",
       "      <td>/home/florent/code/SMILE_face_recognition/data...</td>\n",
       "      <td>/home/florent/code/SMILE_face_recognition/data...</td>\n",
       "    </tr>\n",
       "    <tr>\n",
       "      <th>3</th>\n",
       "      <td>face02104.jpg-face01172.jpg</td>\n",
       "      <td>0</td>\n",
       "      <td>/home/florent/code/SMILE_face_recognition/data...</td>\n",
       "      <td>/home/florent/code/SMILE_face_recognition/data...</td>\n",
       "    </tr>\n",
       "    <tr>\n",
       "      <th>4</th>\n",
       "      <td>face02428.jpg-face05611.jpg</td>\n",
       "      <td>0</td>\n",
       "      <td>/home/florent/code/SMILE_face_recognition/data...</td>\n",
       "      <td>/home/florent/code/SMILE_face_recognition/data...</td>\n",
       "    </tr>\n",
       "  </tbody>\n",
       "</table>\n",
       "</div>"
      ],
      "text/plain": [
       "                      img_pair  is_related  \\\n",
       "0  face05508.jpg-face01210.jpg           0   \n",
       "1  face05750.jpg-face00898.jpg           0   \n",
       "2  face05820.jpg-face03938.jpg           0   \n",
       "3  face02104.jpg-face01172.jpg           0   \n",
       "4  face02428.jpg-face05611.jpg           0   \n",
       "\n",
       "                                                  p1  \\\n",
       "0  /home/florent/code/SMILE_face_recognition/data...   \n",
       "1  /home/florent/code/SMILE_face_recognition/data...   \n",
       "2  /home/florent/code/SMILE_face_recognition/data...   \n",
       "3  /home/florent/code/SMILE_face_recognition/data...   \n",
       "4  /home/florent/code/SMILE_face_recognition/data...   \n",
       "\n",
       "                                                  p2  \n",
       "0  /home/florent/code/SMILE_face_recognition/data...  \n",
       "1  /home/florent/code/SMILE_face_recognition/data...  \n",
       "2  /home/florent/code/SMILE_face_recognition/data...  \n",
       "3  /home/florent/code/SMILE_face_recognition/data...  \n",
       "4  /home/florent/code/SMILE_face_recognition/data...  "
      ]
     },
     "execution_count": 83,
     "metadata": {},
     "output_type": "execute_result"
    }
   ],
   "source": [
    "#And finally we want to submit for the kaggle challenge\n",
    "#To do so, we will use the sample submission csv\n",
    "\n",
    "submission = pd.read_csv('/home/florent/code/SMILE_face_recognition/data/recognizing-faces-in-the-wild/sample_submission.csv')\n",
    "submission['p1'] = submission.img_pair.apply(lambda x: '/home/florent/code/SMILE_face_recognition/data/recognizing-faces-in-the-wild/test/'+x.split('-')[0])\n",
    "submission['p2'] = submission.img_pair.apply(lambda x: '/home/florent/code/SMILE_face_recognition/data/recognizing-faces-in-the-wild/test/'+x.split('-')[1])\n",
    "print(submission.shape)\n",
    "submission.head()"
   ]
  },
  {
   "cell_type": "code",
   "execution_count": 84,
   "metadata": {},
   "outputs": [
    {
     "data": {
      "text/plain": [
       "'/home/florent/code/SMILE_face_recognition/data/recognizing-faces-in-the-wild/test/face01210.jpg'"
      ]
     },
     "execution_count": 84,
     "metadata": {},
     "output_type": "execute_result"
    }
   ],
   "source": [
    "submission.iloc[0, 3]"
   ]
  },
  {
   "cell_type": "code",
   "execution_count": 87,
   "metadata": {},
   "outputs": [
    {
     "name": "stderr",
     "output_type": "stream",
     "text": [
      "\n",
      "\n",
      "  0%|          | 0/21 [00:00<?, ?it/s]\u001b[A\u001b[A"
     ]
    },
    {
     "ename": "MemoryError",
     "evalue": "",
     "output_type": "error",
     "traceback": [
      "\u001b[0;31m---------------------------------------------------------------------------\u001b[0m",
      "\u001b[0;31mMemoryError\u001b[0m                               Traceback (most recent call last)",
      "\u001b[0;32m<ipython-input-87-cb7e082396e4>\u001b[0m in \u001b[0;36m<module>\u001b[0;34m()\u001b[0m\n\u001b[1;32m      6\u001b[0m     \u001b[0;31m#We create list of arrays of index i:j from the paths in the p1\u001b[0m\u001b[0;34m\u001b[0m\u001b[0;34m\u001b[0m\u001b[0m\n\u001b[1;32m      7\u001b[0m     \u001b[0;31m#variable of sample_submission\u001b[0m\u001b[0;34m\u001b[0m\u001b[0;34m\u001b[0m\u001b[0m\n\u001b[0;32m----> 8\u001b[0;31m     \u001b[0mimgs1\u001b[0m \u001b[0;34m=\u001b[0m \u001b[0mnp\u001b[0m\u001b[0;34m.\u001b[0m\u001b[0marray\u001b[0m\u001b[0;34m(\u001b[0m\u001b[0;34m[\u001b[0m\u001b[0mread_img\u001b[0m\u001b[0;34m(\u001b[0m\u001b[0mphoto\u001b[0m\u001b[0;34m)\u001b[0m \u001b[0;32mfor\u001b[0m \u001b[0mphoto\u001b[0m \u001b[0;32min\u001b[0m \u001b[0msubmission\u001b[0m\u001b[0;34m.\u001b[0m\u001b[0mp1\u001b[0m\u001b[0;34m.\u001b[0m\u001b[0mvalues\u001b[0m\u001b[0;34m[\u001b[0m\u001b[0mi\u001b[0m\u001b[0;34m:\u001b[0m\u001b[0mj\u001b[0m\u001b[0;34m]\u001b[0m\u001b[0;34m]\u001b[0m\u001b[0;34m)\u001b[0m\u001b[0;34m\u001b[0m\u001b[0m\n\u001b[0m\u001b[1;32m      9\u001b[0m     \u001b[0;31m#Same with p2\u001b[0m\u001b[0;34m\u001b[0m\u001b[0;34m\u001b[0m\u001b[0m\n\u001b[1;32m     10\u001b[0m     \u001b[0mimgs2\u001b[0m \u001b[0;34m=\u001b[0m \u001b[0mnp\u001b[0m\u001b[0;34m.\u001b[0m\u001b[0marray\u001b[0m\u001b[0;34m(\u001b[0m\u001b[0;34m[\u001b[0m\u001b[0mread_img\u001b[0m\u001b[0;34m(\u001b[0m\u001b[0mphoto\u001b[0m\u001b[0;34m)\u001b[0m \u001b[0;32mfor\u001b[0m \u001b[0mphoto\u001b[0m \u001b[0;32min\u001b[0m \u001b[0msubmission\u001b[0m\u001b[0;34m.\u001b[0m\u001b[0mp2\u001b[0m\u001b[0;34m.\u001b[0m\u001b[0mvalues\u001b[0m\u001b[0;34m[\u001b[0m\u001b[0mi\u001b[0m\u001b[0;34m:\u001b[0m\u001b[0mj\u001b[0m\u001b[0;34m]\u001b[0m\u001b[0;34m]\u001b[0m\u001b[0;34m)\u001b[0m\u001b[0;34m\u001b[0m\u001b[0m\n",
      "\u001b[0;31mMemoryError\u001b[0m: "
     ]
    }
   ],
   "source": [
    "from tqdm import tqdm\n",
    "probs = []\n",
    "#tqdm is used to have a pretty indicator to watch the progress of an iteration\n",
    "#In the following iteration, we will compute the test predictions\n",
    "for i, j in tqdm([(0,250), (250, 500), (500,750), (750, 1000), (1000,1250), (1250, 1500), (1500, 1750), (1750,2000), (2000,2250),(2250,2500), (2500,2750),(2750,3000), (3000, 3250), (3250, 3500), (3500,3750), (3750, 4000), (4000,4250), (4250, 4500), (4500,4750), (4750, 5000), (5000,5310)]):\n",
    "    #We create list of arrays of index i:j from the paths in the p1 \n",
    "    #variable of sample_submission \n",
    "    imgs1 = np.array([read_img(photo) for photo in submission.p1.values[i:j]])\n",
    "    #Same with p2\n",
    "    imgs2 = np.array([read_img(photo) for photo in submission.p2.values[i:j]])\n",
    "    prob =  siamese_net.predict([imgs1, imgs2])\n",
    "    #We squeeze them in order to append them later to the csv\n",
    "    probs.append(np.squeeze(prob))\n",
    "    #Then we clear the imgs1 and imgs2 list so we can use them for the next\n",
    "    #iteration\n",
    "    del imgs1, imgs2; gc.collect()"
   ]
  }
 ],
 "metadata": {
  "kernelspec": {
   "display_name": "Python 3",
   "language": "python",
   "name": "python3"
  },
  "language_info": {
   "codemirror_mode": {
    "name": "ipython",
    "version": 3
   },
   "file_extension": ".py",
   "mimetype": "text/x-python",
   "name": "python",
   "nbconvert_exporter": "python",
   "pygments_lexer": "ipython3",
   "version": "3.7.0"
  }
 },
 "nbformat": 4,
 "nbformat_minor": 2
}
